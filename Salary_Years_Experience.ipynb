{
 "cells": [
  {
   "cell_type": "code",
   "execution_count": null,
   "id": "1f6a8690-c416-463e-8de2-9efe02048d93",
   "metadata": {},
   "outputs": [],
   "source": [
    "import kagglehub\n",
    "path = kagglehub.dataset_download(\"abhishek14398/salary-dataset-simple-linear-regression\")"
   ]
  },
  {
   "cell_type": "code",
   "execution_count": null,
   "id": "1d72e77f-cf6a-4226-ab93-14c706fede61",
   "metadata": {},
   "outputs": [],
   "source": [
    "import pandas as pd\n",
    "import numpy as np\n",
    "import matplotlib.pyplot as plt\n",
    "import seaborn as sns\n",
    "\n",
    "df = pd.read_csv(f\"{path}/Salary_dataset.csv\")\n",
    "df.head()"
   ]
  },
  {
   "cell_type": "code",
   "execution_count": null,
   "id": "c973dec8-0e9f-4ef4-affd-8957243b25a9",
   "metadata": {},
   "outputs": [],
   "source": [
    "df.info()"
   ]
  },
  {
   "cell_type": "code",
   "execution_count": null,
   "id": "c90f940f-38ef-4b46-b519-a085b194a459",
   "metadata": {},
   "outputs": [],
   "source": [
    "df.describe()"
   ]
  },
  {
   "cell_type": "code",
   "execution_count": null,
   "id": "86cc1cf3-18c0-40b7-a988-739dc5b53018",
   "metadata": {},
   "outputs": [],
   "source": [
    "df = df.drop(['Unnamed: 0'], axis = 1)\n",
    "df.head()"
   ]
  },
  {
   "cell_type": "code",
   "execution_count": null,
   "id": "53614892-90d9-4c04-8f7d-4f3b9f6714ec",
   "metadata": {},
   "outputs": [],
   "source": [
    "df.isna().sum()"
   ]
  },
  {
   "cell_type": "code",
   "execution_count": null,
   "id": "278da36f-a8e4-4a5e-a209-ec53be2c893d",
   "metadata": {},
   "outputs": [],
   "source": [
    "plt.figure(figsize = (6,3))\n",
    "\n",
    "x = df['YearsExperience']\n",
    "y = df['Salary']\n",
    "\n",
    "plt.scatter(x, y)\n",
    "\n",
    "plt.title('Scatter Plot')\n",
    "plt.xlabel('Years of experience')\n",
    "plt.ylabel('Salary')\n",
    "\n",
    "plt.show()"
   ]
  },
  {
   "cell_type": "code",
   "execution_count": null,
   "id": "2a6e0f2f-82ab-4cf5-abeb-262861a941c3",
   "metadata": {},
   "outputs": [],
   "source": [
    "from sklearn.preprocessing import StandardScaler\n",
    "from sklearn.linear_model import LinearRegression\n",
    "from sklearn.model_selection import train_test_split\n",
    "from sklearn.metrics import mean_squared_error, r2_score\n",
    "\n",
    "# Define X and y\n",
    "X = df[['YearsExperience']]  # Make sure X is a DataFrame\n",
    "y = df['Salary']\n",
    "\n",
    "# Train-Test Split\n",
    "X_train, X_test, y_train, y_test = train_test_split(X, y, test_size=0.2, random_state=42)\n",
    "\n",
    "# Without Scaling\n",
    "model = LinearRegression()\n",
    "model.fit(X_train, y_train)\n",
    "y_pred = model.predict(X_test)\n",
    "\n",
    "mse_no_scaling = mean_squared_error(y_test, y_pred)\n",
    "r2_no_scaling = r2_score(y_test, y_pred)\n",
    "\n",
    "# With Standard Scaling (theoretically not necessary for Standard Linear Regression with 1 variable)\n",
    "scaler = StandardScaler()\n",
    "X_train_scaled = scaler.fit_transform(X_train)\n",
    "X_test_scaled = scaler.transform(X_test)\n",
    "\n",
    "model_scaled = LinearRegression()\n",
    "model_scaled.fit(X_train_scaled, y_train)\n",
    "y_pred_scaled = model_scaled.predict(X_test_scaled)\n",
    "\n",
    "mse_scaled = mean_squared_error(y_test, y_pred_scaled)\n",
    "r2_scaled = r2_score(y_test, y_pred_scaled)\n",
    "\n",
    "# Compare Results\n",
    "print(f\"Without Scaling -> MSE: {mse_no_scaling:.2f}, R²: {r2_no_scaling:.2f}\")\n",
    "print(f\"With Scaling -> MSE: {mse_scaled:.2f}, R²: {r2_scaled:.2f}\")"
   ]
  },
  {
   "cell_type": "markdown",
   "id": "d3bee9c3-e286-4119-bdcb-6671033edd04",
   "metadata": {},
   "source": [
    "- The model explains 90% of the salary variations based on experience\n",
    "- Scaling doesn’t help in this case\n",
    "- Even though MSE is large, the R² means the model is still quite accurate at explaining salary trends"
   ]
  },
  {
   "cell_type": "code",
   "execution_count": null,
   "id": "b02c0260-68e6-4f23-825b-3d10f520ac32",
   "metadata": {},
   "outputs": [],
   "source": [
    "# Calculate regression equation\n",
    "intercept = model.intercept_\n",
    "coefficient = model.coef_\n",
    "\n",
    "equation = f\"Performance Index = {intercept:.2f} + ({coefficient:.2f})*YearExperience\" \n",
    "\n",
    "print(f\"Regression Equation: {equation}\")"
   ]
  },
  {
   "cell_type": "code",
   "execution_count": null,
   "id": "5ebb34f7-562f-4c04-ad0a-7686b34623ba",
   "metadata": {},
   "outputs": [],
   "source": []
  }
 ],
 "metadata": {
  "kernelspec": {
   "display_name": "Python 3 (ipykernel)",
   "language": "python",
   "name": "python3"
  },
  "language_info": {
   "codemirror_mode": {
    "name": "ipython",
    "version": 3
   },
   "file_extension": ".py",
   "mimetype": "text/x-python",
   "name": "python",
   "nbconvert_exporter": "python",
   "pygments_lexer": "ipython3",
   "version": "3.12.3"
  }
 },
 "nbformat": 4,
 "nbformat_minor": 5
}
